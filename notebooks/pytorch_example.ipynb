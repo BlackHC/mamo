{
 "cells": [
  {
   "cell_type": "code",
   "execution_count": 1,
   "metadata": {},
   "outputs": [
    {
     "name": "stdout",
     "output_type": "stream",
     "text": "Appended /home/blackhc/PycharmProjects/dumbo/src to paths\nSwitched to directory /home/blackhc/PycharmProjects/dumbo\n%load_ext autoreload\n%autoreload 2\n"
    }
   ],
   "source": [
    "import blackhc.notebook"
   ]
  },
  {
   "cell_type": "code",
   "execution_count": 2,
   "metadata": {},
   "outputs": [],
   "source": [
    "import dumbo\n",
    "import dumbo.support.ipython\n",
    "import dumbo.support.torch"
   ]
  },
  {
   "cell_type": "code",
   "execution_count": 3,
   "metadata": {},
   "outputs": [],
   "source": [
    "import torch"
   ]
  },
  {
   "cell_type": "code",
   "execution_count": 4,
   "metadata": {},
   "outputs": [],
   "source": [
    "import torch.nn as nn\n",
    "import torch.nn.functional as F\n",
    "import torch.optim as optim\n",
    "from torchvision import datasets, transforms\n",
    "from torch.optim.lr_scheduler import StepLR"
   ]
  },
  {
   "cell_type": "code",
   "execution_count": 8,
   "metadata": {},
   "outputs": [],
   "source": [
    "class Net(nn.Module):\n",
    "    def __init__(self):\n",
    "        super(Net, self).__init__()\n",
    "        self.conv1 = nn.Conv2d(1, 32, 3, 1)\n",
    "        self.conv2 = nn.Conv2d(32, 64, 3, 1)\n",
    "        self.dropout1 = nn.Dropout2d(0.25)\n",
    "        self.dropout2 = nn.Dropout2d(0.5)\n",
    "        self.fc1 = nn.Linear(9216, 128)\n",
    "        self.fc2 = nn.Linear(128, 10)\n",
    "\n",
    "    def forward(self, x):\n",
    "        x = self.conv1(x)\n",
    "        x = F.relu(x)\n",
    "        x = self.conv2(x)\n",
    "        x = F.max_pool2d(x, 2)\n",
    "        x = self.dropout1(x)\n",
    "        x = torch.flatten(x, 1)\n",
    "        x = self.fc1(x)\n",
    "        x = F.relu(x)\n",
    "        x = self.dropout2(x)\n",
    "        x = self.fc2(x)\n",
    "        output = F.log_softmax(x, dim=1)\n",
    "        return output"
   ]
  },
  {
   "cell_type": "code",
   "execution_count": 19,
   "metadata": {},
   "outputs": [],
   "source": [
    "def train(model, device, train_loader, optimizer, epoch, log_interval=10):\n",
    "    model.train()\n",
    "    for batch_idx, (data, target) in enumerate(train_loader):\n",
    "        data, target = data.to(device), target.to(device)\n",
    "        optimizer.zero_grad()\n",
    "        output = model(data)\n",
    "        loss = F.nll_loss(output, target)\n",
    "        loss.backward()\n",
    "        optimizer.step()\n",
    "        if batch_idx % log_interval == 0:\n",
    "            print('Train Epoch: {} [{}/{} ({:.0f}%)]\\tLoss: {:.6f}'.format(\n",
    "                epoch, batch_idx * len(data), len(train_loader.dataset),\n",
    "                100. * batch_idx / len(train_loader), loss.item()))\n",
    "\n",
    "\n",
    "def test(model, device, test_loader):\n",
    "    model.eval()\n",
    "    test_loss = 0\n",
    "    correct = 0\n",
    "    with torch.no_grad():\n",
    "        for data, target in test_loader:\n",
    "            data, target = data.to(device), target.to(device)\n",
    "            output = model(data)\n",
    "            test_loss += F.nll_loss(output, target, reduction='sum').item()  # sum up batch loss\n",
    "            pred = output.argmax(dim=1, keepdim=True)  # get the index of the max log-probability\n",
    "            correct += pred.eq(target.view_as(pred)).sum().item()\n",
    "\n",
    "    test_loss /= len(test_loader.dataset)\n",
    "\n",
    "    print('\\nTest set: Average loss: {:.4f}, Accuracy: {}/{} ({:.0f}%)\\n'.format(\n",
    "        test_loss, correct, len(test_loader.dataset),\n",
    "        100. * correct / len(test_loader.dataset)))"
   ]
  },
  {
   "cell_type": "code",
   "execution_count": null,
   "metadata": {},
   "outputs": [],
   "source": []
  },
  {
   "cell_type": "code",
   "execution_count": 56,
   "metadata": {},
   "outputs": [
    {
     "name": "stdout",
     "output_type": "stream",
     "text": "Train Epoch: 1 [0/60000 (0%)]\tLoss: 2.303637\nTrain Epoch: 1 [12800/60000 (21%)]\tLoss: 2.272697\nTrain Epoch: 1 [25600/60000 (43%)]\tLoss: 2.249982\nTrain Epoch: 1 [38400/60000 (64%)]\tLoss: 2.215464\nTrain Epoch: 1 [51200/60000 (85%)]\tLoss: 2.174778\n\nTest set: Average loss: 2.1155, Accuracy: 4883/10000 (49%)\n\n"
    }
   ],
   "source": [
    "%%dumbo mnist_model\n",
    "global model\n",
    "use_cuda = torch.cuda.is_available()\n",
    "seed = 0\n",
    "epochs = 1\n",
    "\n",
    "torch.manual_seed(seed)\n",
    "\n",
    "device = torch.device(\"cuda\" if use_cuda else \"cpu\")\n",
    "\n",
    "kwargs = {'num_workers': 1, 'pin_memory': True} if use_cuda else {}\n",
    "\n",
    "batch_size = 256\n",
    "test_batch_size = 1024\n",
    "lr = 0.001\n",
    "gamma=0.7\n",
    "\n",
    "train_loader = torch.utils.data.DataLoader(\n",
    "    datasets.MNIST('../data', train=True, download=True,\n",
    "                   transform=transforms.Compose([\n",
    "                       transforms.ToTensor(),\n",
    "                       transforms.Normalize((0.1307,), (0.3081,))\n",
    "                   ])),\n",
    "    batch_size=batch_size, shuffle=True, **kwargs)\n",
    "\n",
    "test_loader = torch.utils.data.DataLoader(\n",
    "    datasets.MNIST('../data', train=False, transform=transforms.Compose([\n",
    "                       transforms.ToTensor(),\n",
    "                       transforms.Normalize((0.1307,), (0.3081,))\n",
    "                   ])),\n",
    "    batch_size=test_batch_size, shuffle=True, **kwargs)\n",
    "\n",
    "model = Net().to(device)\n",
    "optimizer = optim.Adadelta(model.parameters(), lr=lr)\n",
    "\n",
    "scheduler = StepLR(optimizer, step_size=1, gamma=gamma)\n",
    "for epoch in range(1, epochs + 1):\n",
    "    train(model, device, train_loader, optimizer, epoch, 50)\n",
    "    test(model, device, test_loader)\n",
    "    scheduler.step()"
   ]
  },
  {
   "cell_type": "code",
   "execution_count": 28,
   "metadata": {},
   "outputs": [
    {
     "data": {
      "text/plain": "dict_keys([ValueCellResultIdentity(cell=CellIdentity(qualified_name='mnist_model'), key='model')])"
     },
     "execution_count": 28,
     "metadata": {},
     "output_type": "execute_result"
    }
   ],
   "source": [
    "dumbo.get_cached_value_identities()"
   ]
  },
  {
   "cell_type": "code",
   "execution_count": 33,
   "metadata": {},
   "outputs": [],
   "source": [
    "from pprint import pprint"
   ]
  },
  {
   "cell_type": "code",
   "execution_count": 34,
   "metadata": {},
   "outputs": [
    {
     "name": "stdout",
     "output_type": "stream",
     "text": "{ValueCellResultIdentity(cell=CellIdentity(qualified_name='mnist_model'), key='model'): StoredResult(value=Net(\n  (conv1): Conv2d(1, 32, kernel_size=(3, 3), stride=(1, 1))\n  (conv2): Conv2d(32, 64, kernel_size=(3, 3), stride=(1, 1))\n  (dropout1): Dropout2d(p=0.25)\n  (dropout2): Dropout2d(p=0.5)\n  (fc1): Linear(in_features=9216, out_features=128, bias=True)\n  (fc2): Linear(in_features=128, out_features=10, bias=True)\n), fingerprint=CellResultFingerprint(cell=CellFingerprint(cell_code_fingerprint=DeepFunctionFingerprint(fingerprint=b'\\x18\\x88\\x0c\\x1f\\x17\\xe0\\x97\\xb2WU\\x1dh)5A=', func_calls=frozenset({(('Net',), FunctionFingerprint(fingerprint=b'\\x9f\\xbf\\x0e3\\xd9\\xf0Oi\\x053\\xf3Mx\\xebe\\xcf')), (('test',), DeepFunctionFingerprint(fingerprint=b'\\x0b\\xdd__\\x93\\xdf\\xd1\\xfe\\xb46\\x06\\xb2,\\xa1 j', func_calls=frozenset())), (('train',), DeepFunctionFingerprint(fingerprint=b'\\xe0+\\xf7\\x9ay\\x9f\\xd2\\x00\\xd6\\xb3\\x80\\xd9\\xacHl\\xc3', func_calls=frozenset()))})), globals_load=frozenset({(('StepLR',), (ValueFingerprintIdentity(qualified_type_name='builtins.type', fingerprint=FingerprintDigestValue(digest=b'\\x05\\x9a-$\\x12\\xc1\\xf3\\x9a\\xaf\\x95\\x93\\x01T\\xc1\\xa1\\xd0', value=<class 'torch.optim.lr_scheduler.StepLR'>)), FingerprintDigestValue(digest=b'\\x05\\x9a-$\\x12\\xc1\\xf3\\x9a\\xaf\\x95\\x93\\x01T\\xc1\\xa1\\xd0', value=<class 'torch.optim.lr_scheduler.StepLR'>))), (('transforms', 'ToTensor'), (ValueFingerprintIdentity(qualified_type_name='builtins.type', fingerprint=FingerprintDigestValue(digest=b'\\x1d\\xa8#\\xdb\\n\\x8f\\x9f\\xf2\\xd4\\xa1\\xb9C\\xeb\\xc1\\xaa\\xcc', value=<class 'torchvision.transforms.transforms.ToTensor'>)), FingerprintDigestValue(digest=b'\\x1d\\xa8#\\xdb\\n\\x8f\\x9f\\xf2\\xd4\\xa1\\xb9C\\xeb\\xc1\\xaa\\xcc', value=<class 'torchvision.transforms.transforms.ToTensor'>))), (('datasets', 'MNIST'), (ValueFingerprintIdentity(qualified_type_name='builtins.type', fingerprint=FingerprintDigestValue(digest=b'H9\\xc4jd\\\\V#\\xc5\\x1d\\x82 h\\x91\\x1d[', value=<class 'torchvision.datasets.mnist.MNIST'>)), FingerprintDigestValue(digest=b'H9\\xc4jd\\\\V#\\xc5\\x1d\\x82 h\\x91\\x1d[', value=<class 'torchvision.datasets.mnist.MNIST'>))), (('torch', 'device'), (ValueFingerprintIdentity(qualified_type_name='builtins.type', fingerprint=FingerprintDigestValue(digest=b'a\\x88_\\x00`\\x99\\xce\\xca\\x83\\xfa\\xa1\\x08\\xb9\\xfdC\\xb3', value=<class 'torch.device'>)), FingerprintDigestValue(digest=b'a\\x88_\\x00`\\x99\\xce\\xca\\x83\\xfa\\xa1\\x08\\xb9\\xfdC\\xb3', value=<class 'torch.device'>))), (('torch', 'manual_seed'), (ValueFingerprintIdentity(qualified_type_name='builtins.function', fingerprint=FingerprintDigestValue(digest=FunctionFingerprint(fingerprint=b'E\\xe4Yq)\\xe6\\x868\\x88738H\\xd5\\xef\\xd9'), value='torch.random.manual_seed')), FingerprintDigestValue(digest=FunctionFingerprint(fingerprint=b'E\\xe4Yq)\\xe6\\x868\\x88738H\\xd5\\xef\\xd9'), value='torch.random.manual_seed'))), (('transforms', 'Compose'), (ValueFingerprintIdentity(qualified_type_name='builtins.type', fingerprint=FingerprintDigestValue(digest=b'F-\\\\\\xaa(\\x80\\xc5\\x0c\\x9c\\x02\\x8d\\x9e\\xd6\\xe0O\\x9a', value=<class 'torchvision.transforms.transforms.Compose'>)), FingerprintDigestValue(digest=b'F-\\\\\\xaa(\\x80\\xc5\\x0c\\x9c\\x02\\x8d\\x9e\\xd6\\xe0O\\x9a', value=<class 'torchvision.transforms.transforms.Compose'>))), (('torch', 'utils', 'data', 'DataLoader'), (ValueFingerprintIdentity(qualified_type_name='builtins.type', fingerprint=FingerprintDigestValue(digest=b\"\\xf7L'\\x94\\xa6<\\xb5l\\xd8v\\xce\\x96\\xc2\\x8bU\\x8b\", value=<class 'torch.utils.data.dataloader.DataLoader'>)), FingerprintDigestValue(digest=b\"\\xf7L'\\x94\\xa6<\\xb5l\\xd8v\\xce\\x96\\xc2\\x8bU\\x8b\", value=<class 'torch.utils.data.dataloader.DataLoader'>))), (('Net',), (ValueFingerprintIdentity(qualified_type_name='builtins.type', fingerprint=FingerprintDigestValue(digest=b'\\xe7\\x12\\x9b\\xd2?\\x9b\\x8e\\x0b\\xd4t8\\xa2XI\\xf3\\xad', value=<class '__main__.Net'>)), FingerprintDigestValue(digest=b'\\xe7\\x12\\x9b\\xd2?\\x9b\\x8e\\x0b\\xd4t8\\xa2XI\\xf3\\xad', value=<class '__main__.Net'>))), (('torch', 'cuda', 'is_available'), (ValueFingerprintIdentity(qualified_type_name='builtins.function', fingerprint=FingerprintDigestValue(digest=FunctionFingerprint(fingerprint=b'\\xeaI\\xb4\\xd7\\x08\\x80_-\\x023\\x9c\\xb7?+\\xe4\\x0c'), value='torch.cuda.is_available')), FingerprintDigestValue(digest=FunctionFingerprint(fingerprint=b'\\xeaI\\xb4\\xd7\\x08\\x80_-\\x023\\x9c\\xb7?+\\xe4\\x0c'), value='torch.cuda.is_available'))), (('range',), (ValueFingerprintIdentity(qualified_type_name='builtins.NoneType', fingerprint=FingerprintDigestValue(digest=None, value=None)), FingerprintDigestValue(digest=None, value=None))), (('optim', 'Adadelta'), (ValueFingerprintIdentity(qualified_type_name='builtins.type', fingerprint=FingerprintDigestValue(digest=b'\\xa8\\xf3\\x8a\\x8f\\xb0&=\\xc5\\xc3\\xae\\xd8\\xda\\xc3a\\xb3\\x06', value=<class 'torch.optim.adadelta.Adadelta'>)), FingerprintDigestValue(digest=b'\\xa8\\xf3\\x8a\\x8f\\xb0&=\\xc5\\xc3\\xae\\xd8\\xda\\xc3a\\xb3\\x06', value=<class 'torch.optim.adadelta.Adadelta'>))), (('test',), (ValueFingerprintIdentity(qualified_type_name='builtins.function', fingerprint=FingerprintDigestValue(digest=FunctionFingerprint(fingerprint=b'\\x0b\\xdd__\\x93\\xdf\\xd1\\xfe\\xb46\\x06\\xb2,\\xa1 j'), value='__main__.test')), FingerprintDigestValue(digest=FunctionFingerprint(fingerprint=b'\\x0b\\xdd__\\x93\\xdf\\xd1\\xfe\\xb46\\x06\\xb2,\\xa1 j'), value='__main__.test'))), (('transforms', 'Normalize'), (ValueFingerprintIdentity(qualified_type_name='builtins.type', fingerprint=FingerprintDigestValue(digest=b'5\\x9fx-*2\\\\\\xbb,\\x1f|\\xe5\\xa0F\\\\\\xd4', value=<class 'torchvision.transforms.transforms.Normalize'>)), FingerprintDigestValue(digest=b'5\\x9fx-*2\\\\\\xbb,\\x1f|\\xe5\\xa0F\\\\\\xd4', value=<class 'torchvision.transforms.transforms.Normalize'>))), (('train',), (ValueFingerprintIdentity(qualified_type_name='builtins.function', fingerprint=FingerprintDigestValue(digest=FunctionFingerprint(fingerprint=b'\\xe0+\\xf7\\x9ay\\x9f\\xd2\\x00\\xd6\\xb3\\x80\\xd9\\xacHl\\xc3'), value='__main__.train')), FingerprintDigestValue(digest=FunctionFingerprint(fingerprint=b'\\xe0+\\xf7\\x9ay\\x9f\\xd2\\x00\\xd6\\xb3\\x80\\xd9\\xacHl\\xc3'), value='__main__.train')))}), outputs=frozenset({'model'})), key='model'))}\n"
    }
   ],
   "source": [
    "pprint(dumbo.main.dumbo.online_cache.vid_to_value)"
   ]
  },
  {
   "cell_type": "code",
   "execution_count": 57,
   "metadata": {},
   "outputs": [
    {
     "data": {
      "text/plain": "True"
     },
     "execution_count": 57,
     "metadata": {},
     "output_type": "execute_result"
    }
   ],
   "source": [
    "dumbo.is_stale(model, depth=-1)"
   ]
  },
  {
   "cell_type": "code",
   "execution_count": 46,
   "metadata": {},
   "outputs": [
    {
     "data": {
      "text/plain": "ValueCellResultIdentity(cell=CellIdentity(qualified_name='mnist_model'), key='model')"
     },
     "execution_count": 46,
     "metadata": {},
     "output_type": "execute_result"
    }
   ],
   "source": [
    "dumbo.main.dumbo._get_vid(model)"
   ]
  },
  {
   "cell_type": "code",
   "execution_count": 49,
   "metadata": {},
   "outputs": [
    {
     "data": {
      "text/plain": "Net(\n  (conv1): Conv2d(1, 32, kernel_size=(3, 3), stride=(1, 1))\n  (conv2): Conv2d(32, 64, kernel_size=(3, 3), stride=(1, 1))\n  (dropout1): Dropout2d(p=0.25)\n  (dropout2): Dropout2d(p=0.5)\n  (fc1): Linear(in_features=9216, out_features=128, bias=True)\n  (fc2): Linear(in_features=128, out_features=10, bias=True)\n)"
     },
     "execution_count": 49,
     "metadata": {},
     "output_type": "execute_result"
    }
   ],
   "source": [
    "model"
   ]
  },
  {
   "cell_type": "code",
   "execution_count": null,
   "metadata": {},
   "outputs": [],
   "source": []
  }
 ],
 "metadata": {
  "kernelspec": {
   "display_name": "Python 3",
   "language": "python",
   "name": "python3"
  },
  "language_info": {
   "codemirror_mode": {
    "name": "ipython",
    "version": 3
   },
   "file_extension": ".py",
   "mimetype": "text/x-python",
   "name": "python",
   "nbconvert_exporter": "python",
   "pygments_lexer": "ipython3",
   "version": "3.7.2"
  },
  "pycharm": {
   "stem_cell": {
    "cell_type": "raw",
    "metadata": {
     "collapsed": false
    },
    "source": []
   }
  }
 },
 "nbformat": 4,
 "nbformat_minor": 1
}